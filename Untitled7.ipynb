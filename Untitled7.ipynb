{
 "cells": [
  {
   "cell_type": "code",
   "execution_count": 1,
   "id": "fce976d6-ad40-40b5-a3ea-597cba2225db",
   "metadata": {},
   "outputs": [],
   "source": [
    "\n",
    "import random\n"
   ]
  },
  {
   "cell_type": "code",
   "execution_count": 3,
   "id": "733be1f3-574d-4cda-8719-3fa95b45ce72",
   "metadata": {},
   "outputs": [],
   "source": [
    "def generate_expression(depth):\n",
    "    if depth == 0:\n",
    "        return str(random.randint(1, 10))  # Base case: return a random number\n",
    "    \n",
    "    operator = random.choice(['+', '-', '*', '/'])  # Randomly choose an operator\n",
    "    left_expr = generate_expression(depth - 1)  # Recursively generate left expression\n",
    "    right_expr = generate_expression(depth - 1)  # Recursively generate right expression\n",
    "    \n",
    "    return f\"({left_expr} {operator} {right_expr})\"\n"
   ]
  },
  {
   "cell_type": "code",
   "execution_count": 5,
   "id": "4851d4c9-911e-4f39-8970-0197e4b2897c",
   "metadata": {},
   "outputs": [],
   "source": [
    "def get_user_input():\n",
    "    depth = int(input(\"Enter the depth of the expression (1-5): \"))\n",
    "    if depth < 1 or depth > 5:\n",
    "        print(\"Please enter a valid depth between 1 and 5.\")\n",
    "        return None\n",
    "    return depth\n"
   ]
  },
  {
   "cell_type": "code",
   "execution_count": 7,
   "id": "6afe0bc8-dc0f-4b8a-a7e4-105a4915a29e",
   "metadata": {},
   "outputs": [],
   "source": [
    "def generate_and_display_expression():\n",
    "    depth = get_user_input()\n",
    "    if depth is not None:\n",
    "        expression = generate_expression(depth)\n",
    "        print(\"Generated Expression:\", expression)\n"
   ]
  },
  {
   "cell_type": "code",
   "execution_count": 9,
   "id": "58e6c6b6-a220-47a7-8045-2483572a91ba",
   "metadata": {},
   "outputs": [
    {
     "name": "stdin",
     "output_type": "stream",
     "text": [
      "Enter the depth of the expression (1-5):  4\n"
     ]
    },
    {
     "name": "stdout",
     "output_type": "stream",
     "text": [
      "Generated Expression: ((((10 / 7) + (2 / 7)) + ((1 + 8) + (3 - 6))) * (((5 + 4) - (1 / 3)) * ((7 * 3) + (10 - 10))))\n"
     ]
    }
   ],
   "source": [
    "generate_and_display_expression()\n"
   ]
  },
  {
   "cell_type": "code",
   "execution_count": 11,
   "id": "668eac5e-1e5a-4a8a-abaa-ec83c7f541e7",
   "metadata": {},
   "outputs": [
    {
     "name": "stdin",
     "output_type": "stream",
     "text": [
      "Enter the depth of the expression (1-5):  4\n"
     ]
    },
    {
     "name": "stdout",
     "output_type": "stream",
     "text": [
      "Generated Expression: ((((6 / 3) - (1 * 1)) / ((1 + 10) * (2 / 10))) * (((7 + 8) + (2 - 9)) + ((1 + 1) - (7 * 8))))\n"
     ]
    }
   ],
   "source": [
    "generate_and_display_expression()\n"
   ]
  },
  {
   "cell_type": "code",
   "execution_count": null,
   "id": "0af840bc-fbed-494f-b6cd-f293b31f8acf",
   "metadata": {},
   "outputs": [],
   "source": []
  }
 ],
 "metadata": {
  "kernelspec": {
   "display_name": "Python 3 (ipykernel)",
   "language": "python",
   "name": "python3"
  },
  "language_info": {
   "codemirror_mode": {
    "name": "ipython",
    "version": 3
   },
   "file_extension": ".py",
   "mimetype": "text/x-python",
   "name": "python",
   "nbconvert_exporter": "python",
   "pygments_lexer": "ipython3",
   "version": "3.12.4"
  }
 },
 "nbformat": 4,
 "nbformat_minor": 5
}
