{
 "cells": [
  {
   "cell_type": "code",
   "execution_count": null,
   "id": "53355e4f-dda6-4ac7-8a39-32cfe13a1394",
   "metadata": {},
   "outputs": [],
   "source": []
  }
 ],
 "metadata": {
  "kernelspec": {
   "display_name": "",
   "name": ""
  },
  "language_info": {
   "name": ""
  }
 },
 "nbformat": 4,
 "nbformat_minor": 5
}
