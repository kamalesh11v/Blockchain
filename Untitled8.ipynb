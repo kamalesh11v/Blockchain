{
 "cells": [
  {
   "cell_type": "code",
   "execution_count": 3,
   "id": "a2467161-0b0d-49bf-9cff-82cca6d810c6",
   "metadata": {},
   "outputs": [
    {
     "name": "stdout",
     "output_type": "stream",
     "text": [
      "1: if (a < 5) goto 2\n",
      "2: goto 6\n",
      "3: c = b + d\n",
      "4: d = i + j\n",
      "5: goto 8\n",
      "6: d = a + b\n",
      "7: k = x + y\n"
     ]
    }
   ],
   "source": [
    "class ThreeAddressCodeGenerator:\n",
    "    def __init__(self):\n",
    "        self.temp_var_counter = 1\n",
    "        self.line_counter = 1\n",
    "        self.code = []\n",
    "\n",
    "    def new_temp(self):\n",
    "        temp_var = f\"T{self.temp_var_counter}\"\n",
    "        self.temp_var_counter += 1\n",
    "        return temp_var\n",
    "\n",
    "    def emit(self, statement):\n",
    "        self.code.append(f\"{self.line_counter}: {statement}\")\n",
    "        self.line_counter += 1\n",
    "\n",
    "    def generate_if_else(self, condition, true_block, false_block):\n",
    "        # Generate TAC for condition\n",
    "        self.emit(f\"if ({condition}) goto {self.line_counter + 1}\")\n",
    "        goto_false = self.line_counter\n",
    "        self.emit(\"goto \")  # Placeholder for false block jump\n",
    "\n",
    "        # Generate TAC for true block\n",
    "        start_true_block = self.line_counter\n",
    "        self.generate_block(true_block)\n",
    "        goto_end = self.line_counter\n",
    "        self.emit(\"goto \")  # Placeholder for end\n",
    "\n",
    "        # Backpatch false block jump\n",
    "        self.code[goto_false - 1] = f\"{goto_false}: goto {self.line_counter}\"\n",
    "\n",
    "        # Generate TAC for false block\n",
    "        start_false_block = self.line_counter\n",
    "        self.generate_block(false_block)\n",
    "\n",
    "        # Backpatch true block end jump\n",
    "        self.code[goto_end - 1] = f\"{goto_end}: goto {self.line_counter}\"\n",
    "\n",
    "    def generate_block(self, block):\n",
    "        for statement in block:\n",
    "            self.generate_statement(statement)\n",
    "\n",
    "    def generate_statement(self, statement):\n",
    "        if '=' in statement:\n",
    "            var, expr = statement.split('=')\n",
    "            var = var.strip()\n",
    "            expr = expr.strip()\n",
    "            self.emit(f\"{var} = {expr}\")\n",
    "        elif '+' in statement or '-' in statement:\n",
    "            temp_var = self.new_temp()\n",
    "            self.emit(f\"{temp_var} = {statement.strip()}\")\n",
    "\n",
    "    def print_code(self):\n",
    "        for line in self.code:\n",
    "            print(line)\n",
    "\n",
    "\n",
    "# Example usage\n",
    "if __name__ == \"__main__\":\n",
    "    tac_generator = ThreeAddressCodeGenerator()\n",
    "\n",
    "    condition = \"a < 5\"\n",
    "    true_block = [\"c = b + d\", \"d = i + j\"]\n",
    "    false_block = [\"d = a + b\", \"k = x + y\"]\n",
    "\n",
    "    tac_generator.generate_if_else(condition, true_block, false_block)\n",
    "    tac_generator.print_code()\n"
   ]
  },
  {
   "cell_type": "code",
   "execution_count": null,
   "id": "c120f36a-ee57-4c6b-b207-f90df65d7a46",
   "metadata": {},
   "outputs": [],
   "source": []
  }
 ],
 "metadata": {
  "kernelspec": {
   "display_name": "Python 3 (ipykernel)",
   "language": "python",
   "name": "python3"
  },
  "language_info": {
   "codemirror_mode": {
    "name": "ipython",
    "version": 3
   },
   "file_extension": ".py",
   "mimetype": "text/x-python",
   "name": "python",
   "nbconvert_exporter": "python",
   "pygments_lexer": "ipython3",
   "version": "3.12.4"
  }
 },
 "nbformat": 4,
 "nbformat_minor": 5
}
