{
 "cells": [
  {
   "cell_type": "code",
   "execution_count": null,
   "id": "880f6af4-e95d-4172-a4f4-82d1bd5616b4",
   "metadata": {},
   "outputs": [],
   "source": []
  }
 ],
 "metadata": {
  "kernelspec": {
   "display_name": "",
   "name": ""
  },
  "language_info": {
   "name": ""
  }
 },
 "nbformat": 4,
 "nbformat_minor": 5
}
